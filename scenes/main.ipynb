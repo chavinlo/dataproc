{
 "cells": [
  {
   "cell_type": "code",
   "execution_count": 1,
   "metadata": {},
   "outputs": [
    {
     "name": "stderr",
     "output_type": "stream",
     "text": [
      "/home/ubuntu/practice/second/sec/lib/python3.10/site-packages/tqdm/auto.py:21: TqdmWarning: IProgress not found. Please update jupyter and ipywidgets. See https://ipywidgets.readthedocs.io/en/stable/user_install.html\n",
      "  from .autonotebook import tqdm as notebook_tqdm\n"
     ]
    }
   ],
   "source": [
    "from scenedetect import open_video, SceneManager, ContentDetector\n",
    "video = open_video('/home/ubuntu/practice/second/scenes/videoplayback.mp4')\n",
    "scene_manager = SceneManager()\n",
    "scene_manager.add_detector(ContentDetector())\n",
    "# Detect all scenes in video from current position to end.\n",
    "scene_manager.detect_scenes(video)\n",
    "# `get_scene_list` returns a list of start/end timecode pairs\n",
    "# for each scene that was found.\n",
    "scenes = scene_manager.get_scene_list()"
   ]
  },
  {
   "cell_type": "code",
   "execution_count": 2,
   "metadata": {},
   "outputs": [
    {
     "data": {
      "text/plain": [
       "[(00:00:00.000 [frame=0, fps=29.970], 00:00:02.202 [frame=66, fps=29.970]),\n",
       " (00:00:02.202 [frame=66, fps=29.970], 00:00:06.340 [frame=190, fps=29.970]),\n",
       " (00:00:06.340 [frame=190, fps=29.970], 00:00:14.815 [frame=444, fps=29.970]),\n",
       " (00:00:14.815 [frame=444, fps=29.970], 00:00:48.649 [frame=1458, fps=29.970]),\n",
       " (00:00:48.649 [frame=1458, fps=29.970],\n",
       "  00:00:56.924 [frame=1706, fps=29.970]),\n",
       " (00:00:56.924 [frame=1706, fps=29.970],\n",
       "  00:00:58.258 [frame=1746, fps=29.970]),\n",
       " (00:00:58.258 [frame=1746, fps=29.970],\n",
       "  00:01:03.130 [frame=1892, fps=29.970]),\n",
       " (00:01:03.130 [frame=1892, fps=29.970],\n",
       "  00:01:07.534 [frame=2024, fps=29.970]),\n",
       " (00:01:07.534 [frame=2024, fps=29.970],\n",
       "  00:01:15.909 [frame=2275, fps=29.970]),\n",
       " (00:01:15.909 [frame=2275, fps=29.970],\n",
       "  00:01:18.612 [frame=2356, fps=29.970]),\n",
       " (00:01:18.612 [frame=2356, fps=29.970],\n",
       "  00:01:22.215 [frame=2464, fps=29.970]),\n",
       " (00:01:22.215 [frame=2464, fps=29.970],\n",
       "  00:01:41.935 [frame=3055, fps=29.970]),\n",
       " (00:01:41.935 [frame=3055, fps=29.970],\n",
       "  00:01:46.106 [frame=3180, fps=29.970]),\n",
       " (00:01:46.106 [frame=3180, fps=29.970],\n",
       "  00:01:54.514 [frame=3432, fps=29.970]),\n",
       " (00:01:54.514 [frame=3432, fps=29.970],\n",
       "  00:02:12.265 [frame=3964, fps=29.970]),\n",
       " (00:02:12.265 [frame=3964, fps=29.970],\n",
       "  00:02:19.673 [frame=4186, fps=29.970])]"
      ]
     },
     "execution_count": 2,
     "metadata": {},
     "output_type": "execute_result"
    }
   ],
   "source": [
    "scenes"
   ]
  }
 ],
 "metadata": {
  "kernelspec": {
   "display_name": "sec",
   "language": "python",
   "name": "python3"
  },
  "language_info": {
   "codemirror_mode": {
    "name": "ipython",
    "version": 3
   },
   "file_extension": ".py",
   "mimetype": "text/x-python",
   "name": "python",
   "nbconvert_exporter": "python",
   "pygments_lexer": "ipython3",
   "version": "3.10.12"
  }
 },
 "nbformat": 4,
 "nbformat_minor": 2
}
