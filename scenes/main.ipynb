{
 "cells": [
  {
   "cell_type": "code",
   "execution_count": null,
   "metadata": {},
   "outputs": [],
   "source": [
    "from scenedetect import open_video, SceneManager, ContentDetector\n",
    "video = open_video('/home/ubuntu/practice/second/scenes/videoplayback.mp4')\n",
    "scene_manager = SceneManager()\n",
    "scene_manager.add_detector(ContentDetector())\n",
    "# Detect all scenes in video from current position to end.\n",
    "scene_manager.detect_scenes(video)\n",
    "# `get_scene_list` returns a list of start/end timecode pairs\n",
    "# for each scene that was found.\n",
    "scenes = scene_manager.get_scene_list()"
   ]
  }
 ],
 "metadata": {
  "language_info": {
   "name": "python"
  }
 },
 "nbformat": 4,
 "nbformat_minor": 2
}
