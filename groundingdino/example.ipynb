{
 "cells": [
  {
   "cell_type": "code",
   "execution_count": 2,
   "metadata": {},
   "outputs": [
    {
     "name": "stdout",
     "output_type": "stream",
     "text": [
      "final text_encoder_type: bert-base-uncased\n",
      "Video Opened\n",
      "Frames Dropped\n",
      "Frames Transformed\n"
     ]
    },
    {
     "name": "stderr",
     "output_type": "stream",
     "text": [
      "/home/ubuntu/practice/second/sec/lib/python3.10/site-packages/transformers/modeling_utils.py:942: FutureWarning: The `device` argument is deprecated and will be removed in v5 of Transformers.\n",
      "  warnings.warn(\n",
      "/home/ubuntu/practice/second/sec/lib/python3.10/site-packages/torch/utils/checkpoint.py:429: UserWarning: torch.utils.checkpoint: please pass in use_reentrant=True or use_reentrant=False explicitly. The default value of use_reentrant will be updated to be False in the future. To maintain current behavior, pass use_reentrant=True. It is recommended that you use use_reentrant=False. Refer to docs for more details on the differences between the two variants.\n",
      "  warnings.warn(\n",
      "/home/ubuntu/practice/second/sec/lib/python3.10/site-packages/torch/utils/checkpoint.py:61: UserWarning: None of the inputs have requires_grad=True. Gradients will be None\n",
      "  warnings.warn(\n"
     ]
    },
    {
     "name": "stdout",
     "output_type": "stream",
     "text": [
      "Predicted Frames\n"
     ]
    }
   ],
   "source": [
    "from dinowrap import GroundingDinoVideo\n",
    "from groundingdino.util.inference import load_model\n",
    "\n",
    "MODEL_PATH = \"/home/ubuntu/practice/second/dino/GroundingDINO/groundingdino/config/GroundingDINO_SwinT_OGC.py\"\n",
    "CONFIG_PATH = \"/home/ubuntu/practice/second/dino/GroundingDINO/weights/groundingdino_swint_ogc.pth\"\n",
    "\n",
    "VIDEO_PATH = \"/home/ubuntu/practice/second/dino/park.mp4\"\n",
    "TEXT_PROMPT = \"chair . person . dog .\"\n",
    "\n",
    "model = load_model(MODEL_PATH, CONFIG_PATH)\n",
    "\n",
    "\n",
    "vidproc = GroundingDinoVideo(model=model)\n",
    "x = vidproc.run(\n",
    "    video_path=VIDEO_PATH,\n",
    "    target_fps=2,\n",
    "    text_prompt=TEXT_PROMPT\n",
    ")"
   ]
  },
  {
   "cell_type": "code",
   "execution_count": 3,
   "metadata": {},
   "outputs": [
    {
     "data": {
      "text/plain": [
       "{'chair': {'average_amount': 0.675, 'precense': 0.275},\n",
       " 'person': {'average_amount': 4.15, 'precense': 0.975},\n",
       " 'dog': {'average_amount': 0.275, 'precense': 0.275}}"
      ]
     },
     "execution_count": 3,
     "metadata": {},
     "output_type": "execute_result"
    }
   ],
   "source": [
    "x"
   ]
  }
 ],
 "metadata": {
  "kernelspec": {
   "display_name": "Python 3",
   "language": "python",
   "name": "python3"
  },
  "language_info": {
   "codemirror_mode": {
    "name": "ipython",
    "version": 3
   },
   "file_extension": ".py",
   "mimetype": "text/x-python",
   "name": "python",
   "nbconvert_exporter": "python",
   "pygments_lexer": "ipython3",
   "version": "3.10.12"
  }
 },
 "nbformat": 4,
 "nbformat_minor": 2
}
