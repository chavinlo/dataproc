{
 "cells": [
  {
   "cell_type": "code",
   "execution_count": 10,
   "metadata": {},
   "outputs": [],
   "source": [
    "from noisedetect import calcNoisePerc\n",
    "\n",
    "VIDEO_PATH = \"/home/ubuntu/practice/samplevideos/vhs15.mp4\""
   ]
  },
  {
   "cell_type": "code",
   "execution_count": 11,
   "metadata": {},
   "outputs": [],
   "source": [
    "x = calcNoisePerc(\n",
    "    VIDEO_PATH,\n",
    "    2,\n",
    "    (256, 256)\n",
    ")"
   ]
  },
  {
   "cell_type": "code",
   "execution_count": 12,
   "metadata": {},
   "outputs": [
    {
     "data": {
      "text/plain": [
       "(0.0,\n",
       " [{'idx': 0, 's_perc': 0.0},\n",
       "  {'idx': 1, 's_perc': 0.0},\n",
       "  {'idx': 2, 's_perc': 0.0},\n",
       "  {'idx': 3, 's_perc': 0.0},\n",
       "  {'idx': 4, 's_perc': 0.0},\n",
       "  {'idx': 5, 's_perc': 0.0},\n",
       "  {'idx': 6, 's_perc': 0.0},\n",
       "  {'idx': 7, 's_perc': 0.0},\n",
       "  {'idx': 8, 's_perc': 0.0},\n",
       "  {'idx': 9, 's_perc': 0.0},\n",
       "  {'idx': 10, 's_perc': 0.0},\n",
       "  {'idx': 11, 's_perc': 0.0},\n",
       "  {'idx': 12, 's_perc': 0.0},\n",
       "  {'idx': 13, 's_perc': 0.0},\n",
       "  {'idx': 14, 's_perc': 0.0},\n",
       "  {'idx': 15, 's_perc': 0.0},\n",
       "  {'idx': 16, 's_perc': 0.0},\n",
       "  {'idx': 17, 's_perc': 0.0},\n",
       "  {'idx': 18, 's_perc': 0.0},\n",
       "  {'idx': 19, 's_perc': 0.0},\n",
       "  {'idx': 20, 's_perc': 0.0},\n",
       "  {'idx': 21, 's_perc': 0.0},\n",
       "  {'idx': 22, 's_perc': 0.0},\n",
       "  {'idx': 23, 's_perc': 0.0},\n",
       "  {'idx': 24, 's_perc': 0.0},\n",
       "  {'idx': 25, 's_perc': 0.0},\n",
       "  {'idx': 26, 's_perc': 0.0},\n",
       "  {'idx': 27, 's_perc': 0.0},\n",
       "  {'idx': 28, 's_perc': 0.0},\n",
       "  {'idx': 29, 's_perc': 0.0},\n",
       "  {'idx': 30, 's_perc': 0.0},\n",
       "  {'idx': 31, 's_perc': 0.0},\n",
       "  {'idx': 32, 's_perc': 0.0},\n",
       "  {'idx': 33, 's_perc': 0.0},\n",
       "  {'idx': 34, 's_perc': 0.0},\n",
       "  {'idx': 35, 's_perc': 0.0},\n",
       "  {'idx': 36, 's_perc': 0.0},\n",
       "  {'idx': 37, 's_perc': 0.0}])"
      ]
     },
     "execution_count": 12,
     "metadata": {},
     "output_type": "execute_result"
    }
   ],
   "source": [
    "x"
   ]
  }
 ],
 "metadata": {
  "kernelspec": {
   "display_name": "sec",
   "language": "python",
   "name": "python3"
  },
  "language_info": {
   "codemirror_mode": {
    "name": "ipython",
    "version": 3
   },
   "file_extension": ".py",
   "mimetype": "text/x-python",
   "name": "python",
   "nbconvert_exporter": "python",
   "pygments_lexer": "ipython3",
   "version": "3.10.12"
  }
 },
 "nbformat": 4,
 "nbformat_minor": 2
}
